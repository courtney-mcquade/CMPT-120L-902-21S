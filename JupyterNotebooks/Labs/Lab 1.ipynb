{
 "metadata": {
  "language_info": {
   "codemirror_mode": {
    "name": "ipython",
    "version": 3
   },
   "file_extension": ".py",
   "mimetype": "text/x-python",
   "name": "python",
   "nbconvert_exporter": "python",
   "pygments_lexer": "ipython3",
   "version": "3.8.5-final"
  },
  "orig_nbformat": 2,
  "kernelspec": {
   "name": "python3",
   "display_name": "Python 3.8.5 64-bit ('base': conda)",
   "metadata": {
    "interpreter": {
     "hash": "a668e5cfb0f2b1e3ca8acc45291459cb3751457795585b25de554ea474616e95"
    }
   }
  }
 },
 "nbformat": 4,
 "nbformat_minor": 2,
 "cells": [
  {
   "cell_type": "markdown",
   "metadata": {},
   "source": [
    "# Lab One\n",
    "---\n",
    "\n",
    "Ok for this lab we're going to reiterate a lot of the things that we went over in class.\n",
    "\n",
    "Our Goals are:\n",
    "- Defining variables\n",
    "- Using math\n",
    "- Manipulating variables\n",
    "- Changing data types\n",
    "- Playing with lists"
   ]
  },
  {
   "cell_type": "code",
   "execution_count": 2,
   "metadata": {},
   "outputs": [],
   "source": [
    "# Define 4 variables, one of each type listed: [Integer, String, Boolean, Float]. Print all 4."
   ]
  },
  {
   "cell_type": "code",
   "execution_count": 3,
   "metadata": {},
   "outputs": [
    {
     "output_type": "stream",
     "name": "stdout",
     "text": [
      "4\ncoding\nTrue\n3.14\n"
     ]
    }
   ],
   "source": [
    "# Integer  \n",
    "a = 4\n",
    "# String \n",
    "b = \"coding\"\n",
    "# Boolean\n",
    "c = True \n",
    "# Float\n",
    "d = 3.14 \n",
    "print(a)\n",
    "print(b)\n",
    "print(c)\n",
    "print(d)\n"
   ]
  },
  {
   "cell_type": "code",
   "execution_count": 4,
   "metadata": {},
   "outputs": [],
   "source": [
    "# With whatever variables you'd like demonstrate the following: [Addition, Subtraction, Division, Multiplication, Modulo]. Print all 5."
   ]
  },
  {
   "cell_type": "code",
   "execution_count": 8,
   "metadata": {},
   "outputs": [
    {
     "output_type": "stream",
     "name": "stdout",
     "text": [
      "9\n1\n2\n20\n1\n"
     ]
    }
   ],
   "source": [
    "e = 5\n",
    "f = 4\n",
    "g = 2\n",
    "#Addition\n",
    "print (e+f)\n",
    "#Subtraction\n",
    "print (e-f)\n",
    "#Division\n",
    "print(f//g)\n",
    "#Multiplication\n",
    "print(e*f)\n",
    "#Modulo\n",
    "print(e%f)"
   ]
  },
  {
   "cell_type": "code",
   "execution_count": 85,
   "metadata": {},
   "outputs": [],
   "source": [
    "# Using 2 variables and addition print the number 57"
   ]
  },
  {
   "cell_type": "code",
   "execution_count": 86,
   "metadata": {},
   "outputs": [
    {
     "output_type": "stream",
     "name": "stdout",
     "text": [
      "57\n"
     ]
    }
   ],
   "source": [
    "x = 27\n",
    "y = 30\n",
    "print(x+y)"
   ]
  },
  {
   "cell_type": "code",
   "execution_count": 87,
   "metadata": {
    "tags": []
   },
   "outputs": [],
   "source": [
    "# Change this variable to a string and print\n",
    "number_into_string = 37\n",
    "# Change this variable to a integer and print\n",
    "string_into_number = '10'\n",
    "# Change this variable to a float and print\n",
    "string_into_float = '299.99'\n",
    "# Change this variable to a boolean and print\n",
    "number_into_boolean = 37\n"
   ]
  },
  {
   "cell_type": "code",
   "execution_count": 88,
   "metadata": {},
   "outputs": [
    {
     "output_type": "stream",
     "name": "stdout",
     "text": [
      "37\n10\n299.99\nTrue\n"
     ]
    }
   ],
   "source": [
    "print(str(number_into_string))\n",
    "print(int(string_into_number))\n",
    "print(float(string_into_float))\n",
    "print(bool(number_into_boolean))"
   ]
  },
  {
   "cell_type": "code",
   "execution_count": 89,
   "metadata": {},
   "outputs": [],
   "source": [
    "# Make me a list of any type"
   ]
  },
  {
   "cell_type": "code",
   "execution_count": 7,
   "metadata": {},
   "outputs": [
    {
     "output_type": "stream",
     "name": "stdout",
     "text": [
      "['apples', 'bananas', 'oranges', 'blueberries']\n"
     ]
    }
   ],
   "source": [
    "fruit = [\"apples\", \"bananas\", \"oranges\", \"blueberries\"]\n",
    "print(fruit)\n"
   ]
  }
 ]
}